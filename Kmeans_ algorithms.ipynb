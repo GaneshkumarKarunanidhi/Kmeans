{
 "cells": [
  {
   "cell_type": "markdown",
   "id": "f28b7e97",
   "metadata": {},
   "source": [
    "#09.10.2022\n",
    "\n",
    "Here we are apply a K means cluster algorithm for Textails sales data.\n"
   ]
  },
  {
   "cell_type": "code",
   "execution_count": 1,
   "id": "aadbe584",
   "metadata": {},
   "outputs": [],
   "source": [
    "\n",
    "import pandas as pd\n",
    "import numpy as np\n",
    "import matplotlib.pyplot as plt\n",
    "\n",
    "from sklearn.cluster import KMeans\n",
    "from sklearn.preprocessing import StandardScaler\n"
   ]
  },
  {
   "cell_type": "code",
   "execution_count": 2,
   "id": "ac6edfdc",
   "metadata": {},
   "outputs": [
    {
     "data": {
      "text/html": [
       "<div>\n",
       "<style scoped>\n",
       "    .dataframe tbody tr th:only-of-type {\n",
       "        vertical-align: middle;\n",
       "    }\n",
       "\n",
       "    .dataframe tbody tr th {\n",
       "        vertical-align: top;\n",
       "    }\n",
       "\n",
       "    .dataframe thead th {\n",
       "        text-align: right;\n",
       "    }\n",
       "</style>\n",
       "<table border=\"1\" class=\"dataframe\">\n",
       "  <thead>\n",
       "    <tr style=\"text-align: right;\">\n",
       "      <th></th>\n",
       "      <th>Domain</th>\n",
       "      <th>SKU</th>\n",
       "      <th>SKU's Unique Group ID</th>\n",
       "      <th>Sku's Unique group Id Definition</th>\n",
       "      <th>Customer ID</th>\n",
       "      <th>brand Name</th>\n",
       "      <th>Type</th>\n",
       "      <th>Art style</th>\n",
       "      <th>Product style</th>\n",
       "      <th>Added to Cart Date</th>\n",
       "      <th>...</th>\n",
       "      <th>SleeveLength</th>\n",
       "      <th>Waist Type</th>\n",
       "      <th>Blouse Type</th>\n",
       "      <th>Blouse Length</th>\n",
       "      <th>Blouse Pattern</th>\n",
       "      <th>Blouse NeckStyle</th>\n",
       "      <th>Blouse BrassierSize</th>\n",
       "      <th>Blouse Front NeckDesign</th>\n",
       "      <th>Blouse back NeckDesign</th>\n",
       "      <th>Blouse SleeveDesign</th>\n",
       "    </tr>\n",
       "  </thead>\n",
       "  <tbody>\n",
       "    <tr>\n",
       "      <th>0</th>\n",
       "      <td>Global site</td>\n",
       "      <td>SLSSITAI1001</td>\n",
       "      <td>SL</td>\n",
       "      <td>Salwar Kameez</td>\n",
       "      <td>582222</td>\n",
       "      <td>Market</td>\n",
       "      <td>Churidar Suit</td>\n",
       "      <td>Embroidered |</td>\n",
       "      <td>NaN</td>\n",
       "      <td>1-Mar-19</td>\n",
       "      <td>...</td>\n",
       "      <td>NaN</td>\n",
       "      <td>NaN</td>\n",
       "      <td>NaN</td>\n",
       "      <td>NaN</td>\n",
       "      <td>NaN</td>\n",
       "      <td>NaN</td>\n",
       "      <td>NaN</td>\n",
       "      <td>NaN</td>\n",
       "      <td>NaN</td>\n",
       "      <td>NaN</td>\n",
       "    </tr>\n",
       "    <tr>\n",
       "      <th>1</th>\n",
       "      <td>Global site</td>\n",
       "      <td>KDSLP8113</td>\n",
       "      <td>KDG</td>\n",
       "      <td>Girls</td>\n",
       "      <td>620497</td>\n",
       "      <td>Market</td>\n",
       "      <td>Girls Skirt Set</td>\n",
       "      <td>Beads | Embroidered | Stones |</td>\n",
       "      <td>NaN</td>\n",
       "      <td>1-Mar-19</td>\n",
       "      <td>...</td>\n",
       "      <td>NaN</td>\n",
       "      <td>NaN</td>\n",
       "      <td>NaN</td>\n",
       "      <td>NaN</td>\n",
       "      <td>NaN</td>\n",
       "      <td>NaN</td>\n",
       "      <td>NaN</td>\n",
       "      <td>NaN</td>\n",
       "      <td>NaN</td>\n",
       "      <td>NaN</td>\n",
       "    </tr>\n",
       "    <tr>\n",
       "      <th>2</th>\n",
       "      <td>Global site</td>\n",
       "      <td>GHSMV6512</td>\n",
       "      <td>GH</td>\n",
       "      <td>Lehengas</td>\n",
       "      <td>620497</td>\n",
       "      <td>Market</td>\n",
       "      <td>Fish Cut Lehenga</td>\n",
       "      <td>NaN</td>\n",
       "      <td>NaN</td>\n",
       "      <td>1-Mar-19</td>\n",
       "      <td>...</td>\n",
       "      <td>NaN</td>\n",
       "      <td>NaN</td>\n",
       "      <td>NaN</td>\n",
       "      <td>NaN</td>\n",
       "      <td>NaN</td>\n",
       "      <td>NaN</td>\n",
       "      <td>NaN</td>\n",
       "      <td>NaN</td>\n",
       "      <td>NaN</td>\n",
       "      <td>NaN</td>\n",
       "    </tr>\n",
       "    <tr>\n",
       "      <th>3</th>\n",
       "      <td>Global site</td>\n",
       "      <td>KRSVFKU277</td>\n",
       "      <td>KR</td>\n",
       "      <td>Kurtis</td>\n",
       "      <td>348096</td>\n",
       "      <td>Market</td>\n",
       "      <td>Long Kurti</td>\n",
       "      <td>Embroidered |</td>\n",
       "      <td>NaN</td>\n",
       "      <td>1-Mar-19</td>\n",
       "      <td>...</td>\n",
       "      <td>NaN</td>\n",
       "      <td>NaN</td>\n",
       "      <td>NaN</td>\n",
       "      <td>NaN</td>\n",
       "      <td>NaN</td>\n",
       "      <td>NaN</td>\n",
       "      <td>NaN</td>\n",
       "      <td>NaN</td>\n",
       "      <td>NaN</td>\n",
       "      <td>NaN</td>\n",
       "    </tr>\n",
       "    <tr>\n",
       "      <th>4</th>\n",
       "      <td>Global site</td>\n",
       "      <td>KRSVFKU265</td>\n",
       "      <td>KR</td>\n",
       "      <td>Kurtis</td>\n",
       "      <td>348096</td>\n",
       "      <td>Market</td>\n",
       "      <td>Long Kurti</td>\n",
       "      <td>Embroidered |</td>\n",
       "      <td>NaN</td>\n",
       "      <td>1-Mar-19</td>\n",
       "      <td>...</td>\n",
       "      <td>NaN</td>\n",
       "      <td>NaN</td>\n",
       "      <td>NaN</td>\n",
       "      <td>NaN</td>\n",
       "      <td>NaN</td>\n",
       "      <td>NaN</td>\n",
       "      <td>NaN</td>\n",
       "      <td>NaN</td>\n",
       "      <td>NaN</td>\n",
       "      <td>NaN</td>\n",
       "    </tr>\n",
       "  </tbody>\n",
       "</table>\n",
       "<p>5 rows × 39 columns</p>\n",
       "</div>"
      ],
      "text/plain": [
       "        Domain          SKU  SKU's Unique Group ID  \\\n",
       "0  Global site  SLSSITAI1001                    SL   \n",
       "1  Global site     KDSLP8113                   KDG   \n",
       "2  Global site     GHSMV6512                    GH   \n",
       "3  Global site    KRSVFKU277                    KR   \n",
       "4  Global site    KRSVFKU265                    KR   \n",
       "\n",
       "  Sku's Unique group Id Definition  Customer ID brand Name              Type  \\\n",
       "0                    Salwar Kameez       582222     Market     Churidar Suit   \n",
       "1                            Girls       620497     Market   Girls Skirt Set   \n",
       "2                         Lehengas       620497     Market  Fish Cut Lehenga   \n",
       "3                           Kurtis       348096     Market        Long Kurti   \n",
       "4                           Kurtis       348096     Market        Long Kurti   \n",
       "\n",
       "                         Art style Product style Added to Cart Date  ...  \\\n",
       "0                   Embroidered |            NaN           1-Mar-19  ...   \n",
       "1  Beads | Embroidered | Stones |            NaN           1-Mar-19  ...   \n",
       "2                              NaN           NaN           1-Mar-19  ...   \n",
       "3                   Embroidered |            NaN           1-Mar-19  ...   \n",
       "4                   Embroidered |            NaN           1-Mar-19  ...   \n",
       "\n",
       "  SleeveLength Waist Type Blouse Type  Blouse Length Blouse Pattern  \\\n",
       "0          NaN        NaN         NaN            NaN            NaN   \n",
       "1          NaN        NaN         NaN            NaN            NaN   \n",
       "2          NaN        NaN         NaN            NaN            NaN   \n",
       "3          NaN        NaN         NaN            NaN            NaN   \n",
       "4          NaN        NaN         NaN            NaN            NaN   \n",
       "\n",
       "  Blouse NeckStyle Blouse BrassierSize Blouse Front NeckDesign  \\\n",
       "0              NaN                 NaN                     NaN   \n",
       "1              NaN                 NaN                     NaN   \n",
       "2              NaN                 NaN                     NaN   \n",
       "3              NaN                 NaN                     NaN   \n",
       "4              NaN                 NaN                     NaN   \n",
       "\n",
       "  Blouse back NeckDesign Blouse SleeveDesign  \n",
       "0                    NaN                 NaN  \n",
       "1                    NaN                 NaN  \n",
       "2                    NaN                 NaN  \n",
       "3                    NaN                 NaN  \n",
       "4                    NaN                 NaN  \n",
       "\n",
       "[5 rows x 39 columns]"
      ]
     },
     "execution_count": 2,
     "metadata": {},
     "output_type": "execute_result"
    }
   ],
   "source": [
    "data = pd.read_csv(\"D:/Events/Python/Datasets/Textails_salesdata.csv\")\n",
    "data.head()"
   ]
  },
  {
   "cell_type": "code",
   "execution_count": 3,
   "id": "bd1a336e",
   "metadata": {},
   "outputs": [
    {
     "name": "stdout",
     "output_type": "stream",
     "text": [
      "<class 'pandas.core.frame.DataFrame'>\n",
      "RangeIndex: 61931 entries, 0 to 61930\n",
      "Data columns (total 39 columns):\n",
      " #   Column                              Non-Null Count  Dtype  \n",
      "---  ------                              --------------  -----  \n",
      " 0   Domain                              61931 non-null  object \n",
      " 1   SKU                                 61931 non-null  object \n",
      " 2   SKU's Unique Group ID               61931 non-null  object \n",
      " 3   Sku's Unique group Id Definition    61931 non-null  object \n",
      " 4   Customer ID                         61931 non-null  int64  \n",
      " 5   brand Name                          61931 non-null  object \n",
      " 6   Type                                61931 non-null  object \n",
      " 7   Art style                           56198 non-null  object \n",
      " 8   Product style                       13508 non-null  object \n",
      " 9   Added to Cart Date                  61931 non-null  object \n",
      " 10  Added to Cart Time                  61931 non-null  object \n",
      " 11  Purchased Date                      23693 non-null  object \n",
      " 12  RFM Value                           40862 non-null  object \n",
      " 13  Body height                         9120 non-null   float64\n",
      " 14  Readymade /kids /Bust size          42380 non-null  object \n",
      " 15  Customer Last Purchased Date        40881 non-null  object \n",
      " 16  Customer Last website Visited date  39876 non-null  object \n",
      " 17  Customer Registered Date            61931 non-null  object \n",
      " 18  Customer Name                       61931 non-null  object \n",
      " 19  City                                44677 non-null  object \n",
      " 20  State                               43869 non-null  object \n",
      " 21  Country                             48213 non-null  object \n",
      " 22  Waist To Floor size                 557 non-null    float64\n",
      " 23  Front Neck Style                    809 non-null    object \n",
      " 24  Back Neck Style                     809 non-null    object \n",
      " 25  Sleeve Style                        809 non-null    object \n",
      " 26  Kameez Style                        325 non-null    object \n",
      " 27  Pant Style                          325 non-null    object \n",
      " 28  KameezLength                        325 non-null    object \n",
      " 29  SleeveLength                        365 non-null    float64\n",
      " 30  Waist Type                          239 non-null    object \n",
      " 31  Blouse Type                         255 non-null    object \n",
      " 32  Blouse Length                       255 non-null    float64\n",
      " 33  Blouse Pattern                      538 non-null    object \n",
      " 34  Blouse NeckStyle                    255 non-null    float64\n",
      " 35  Blouse BrassierSize                 255 non-null    object \n",
      " 36  Blouse Front NeckDesign             538 non-null    object \n",
      " 37  Blouse back NeckDesign              538 non-null    object \n",
      " 38  Blouse SleeveDesign                 538 non-null    object \n",
      "dtypes: float64(5), int64(1), object(33)\n",
      "memory usage: 18.4+ MB\n"
     ]
    }
   ],
   "source": [
    "data.info()"
   ]
  },
  {
   "cell_type": "code",
   "execution_count": 4,
   "id": "e7769eb3",
   "metadata": {
    "scrolled": true
   },
   "outputs": [
    {
     "data": {
      "text/plain": [
       "Domain                                    0\n",
       "SKU                                       0\n",
       "SKU's Unique Group ID                     0\n",
       "Sku's Unique group Id Definition          0\n",
       "Customer ID                               0\n",
       "brand Name                                0\n",
       "Type                                      0\n",
       "Art style                              5733\n",
       "Product style                         48423\n",
       "Added to Cart Date                        0\n",
       "Added to Cart Time                        0\n",
       "Purchased Date                        38238\n",
       "RFM Value                             21069\n",
       "Body height                           52811\n",
       "Readymade /kids /Bust size            19551\n",
       "Customer Last Purchased Date          21050\n",
       "Customer Last website Visited date    22055\n",
       "Customer Registered Date                  0\n",
       "Customer Name                             0\n",
       "City                                  17254\n",
       "State                                 18062\n",
       "Country                               13718\n",
       "Waist To Floor size                   61374\n",
       "Front Neck Style                      61122\n",
       "Back Neck Style                       61122\n",
       "Sleeve Style                          61122\n",
       "Kameez Style                          61606\n",
       "Pant Style                            61606\n",
       "KameezLength                          61606\n",
       "SleeveLength                          61566\n",
       "Waist Type                            61692\n",
       "Blouse Type                           61676\n",
       "Blouse Length                         61676\n",
       "Blouse Pattern                        61393\n",
       "Blouse NeckStyle                      61676\n",
       "Blouse BrassierSize                   61676\n",
       "Blouse Front NeckDesign               61393\n",
       "Blouse back NeckDesign                61393\n",
       "Blouse SleeveDesign                   61393\n",
       "dtype: int64"
      ]
     },
     "execution_count": 4,
     "metadata": {},
     "output_type": "execute_result"
    }
   ],
   "source": [
    "data.isnull().sum()"
   ]
  },
  {
   "cell_type": "code",
   "execution_count": 5,
   "id": "d28b7f33",
   "metadata": {},
   "outputs": [],
   "source": [
    "#Before applying a drop method we have to take a copy of original data\n",
    "data_copy = data.copy()"
   ]
  },
  {
   "cell_type": "markdown",
   "id": "df89fc02",
   "metadata": {},
   "source": [
    "There are a greater number of columns with null values in the dataset. We must remove the unnecessary columns from the datasets."
   ]
  },
  {
   "cell_type": "code",
   "execution_count": 6,
   "id": "1dd76a6e",
   "metadata": {},
   "outputs": [],
   "source": [
    "data.drop(['Waist To Floor size','Front Neck Style','Back Neck Style','Sleeve Style', 'Kameez Style', 'SleeveLength', 'Waist Type', 'Blouse Type', 'Blouse Length', 'Blouse Pattern', 'Blouse BrassierSize', 'Blouse NeckStyle', 'Blouse Front NeckDesign', 'Blouse back NeckDesign', 'Blouse SleeveDesign','Pant Style','KameezLength'],axis=1,inplace=True)"
   ]
  },
  {
   "cell_type": "code",
   "execution_count": 7,
   "id": "3d1f1862",
   "metadata": {},
   "outputs": [
    {
     "name": "stdout",
     "output_type": "stream",
     "text": [
      "<class 'pandas.core.frame.DataFrame'>\n",
      "RangeIndex: 61931 entries, 0 to 61930\n",
      "Data columns (total 22 columns):\n",
      " #   Column                              Non-Null Count  Dtype  \n",
      "---  ------                              --------------  -----  \n",
      " 0   Domain                              61931 non-null  object \n",
      " 1   SKU                                 61931 non-null  object \n",
      " 2   SKU's Unique Group ID               61931 non-null  object \n",
      " 3   Sku's Unique group Id Definition    61931 non-null  object \n",
      " 4   Customer ID                         61931 non-null  int64  \n",
      " 5   brand Name                          61931 non-null  object \n",
      " 6   Type                                61931 non-null  object \n",
      " 7   Art style                           56198 non-null  object \n",
      " 8   Product style                       13508 non-null  object \n",
      " 9   Added to Cart Date                  61931 non-null  object \n",
      " 10  Added to Cart Time                  61931 non-null  object \n",
      " 11  Purchased Date                      23693 non-null  object \n",
      " 12  RFM Value                           40862 non-null  object \n",
      " 13  Body height                         9120 non-null   float64\n",
      " 14  Readymade /kids /Bust size          42380 non-null  object \n",
      " 15  Customer Last Purchased Date        40881 non-null  object \n",
      " 16  Customer Last website Visited date  39876 non-null  object \n",
      " 17  Customer Registered Date            61931 non-null  object \n",
      " 18  Customer Name                       61931 non-null  object \n",
      " 19  City                                44677 non-null  object \n",
      " 20  State                               43869 non-null  object \n",
      " 21  Country                             48213 non-null  object \n",
      "dtypes: float64(1), int64(1), object(20)\n",
      "memory usage: 10.4+ MB\n"
     ]
    }
   ],
   "source": [
    "data.info()"
   ]
  },
  {
   "cell_type": "code",
   "execution_count": 8,
   "id": "b9a89de1",
   "metadata": {},
   "outputs": [
    {
     "data": {
      "text/html": [
       "<div>\n",
       "<style scoped>\n",
       "    .dataframe tbody tr th:only-of-type {\n",
       "        vertical-align: middle;\n",
       "    }\n",
       "\n",
       "    .dataframe tbody tr th {\n",
       "        vertical-align: top;\n",
       "    }\n",
       "\n",
       "    .dataframe thead th {\n",
       "        text-align: right;\n",
       "    }\n",
       "</style>\n",
       "<table border=\"1\" class=\"dataframe\">\n",
       "  <thead>\n",
       "    <tr style=\"text-align: right;\">\n",
       "      <th></th>\n",
       "      <th>Domain</th>\n",
       "      <th>SKU</th>\n",
       "      <th>SKU's Unique Group ID</th>\n",
       "      <th>Sku's Unique group Id Definition</th>\n",
       "      <th>Customer ID</th>\n",
       "      <th>brand Name</th>\n",
       "      <th>Type</th>\n",
       "      <th>Art style</th>\n",
       "      <th>Product style</th>\n",
       "      <th>Added to Cart Date</th>\n",
       "      <th>...</th>\n",
       "      <th>RFM Value</th>\n",
       "      <th>Body height</th>\n",
       "      <th>Readymade /kids /Bust size</th>\n",
       "      <th>Customer Last Purchased Date</th>\n",
       "      <th>Customer Last website Visited date</th>\n",
       "      <th>Customer Registered Date</th>\n",
       "      <th>Customer Name</th>\n",
       "      <th>City</th>\n",
       "      <th>State</th>\n",
       "      <th>Country</th>\n",
       "    </tr>\n",
       "  </thead>\n",
       "  <tbody>\n",
       "    <tr>\n",
       "      <th>0</th>\n",
       "      <td>Global site</td>\n",
       "      <td>SLSSITAI1001</td>\n",
       "      <td>SL</td>\n",
       "      <td>Salwar Kameez</td>\n",
       "      <td>582222</td>\n",
       "      <td>Market</td>\n",
       "      <td>Churidar Suit</td>\n",
       "      <td>Embroidered |</td>\n",
       "      <td>NaN</td>\n",
       "      <td>1-Mar-19</td>\n",
       "      <td>...</td>\n",
       "      <td>NaN</td>\n",
       "      <td>NaN</td>\n",
       "      <td>34</td>\n",
       "      <td>NaN</td>\n",
       "      <td>NaN</td>\n",
       "      <td>18-Jul-18</td>\n",
       "      <td>Jannat</td>\n",
       "      <td>NaN</td>\n",
       "      <td>NaN</td>\n",
       "      <td>United States</td>\n",
       "    </tr>\n",
       "    <tr>\n",
       "      <th>1</th>\n",
       "      <td>Global site</td>\n",
       "      <td>KDSLP8113</td>\n",
       "      <td>KDG</td>\n",
       "      <td>Girls</td>\n",
       "      <td>620497</td>\n",
       "      <td>Market</td>\n",
       "      <td>Girls Skirt Set</td>\n",
       "      <td>Beads | Embroidered | Stones |</td>\n",
       "      <td>NaN</td>\n",
       "      <td>1-Mar-19</td>\n",
       "      <td>...</td>\n",
       "      <td>NaN</td>\n",
       "      <td>NaN</td>\n",
       "      <td>8 TO 10 YRS</td>\n",
       "      <td>NaN</td>\n",
       "      <td>NaN</td>\n",
       "      <td>1-Mar-19</td>\n",
       "      <td>minchi1162</td>\n",
       "      <td>NaN</td>\n",
       "      <td>NaN</td>\n",
       "      <td>NaN</td>\n",
       "    </tr>\n",
       "    <tr>\n",
       "      <th>2</th>\n",
       "      <td>Global site</td>\n",
       "      <td>GHSMV6512</td>\n",
       "      <td>GH</td>\n",
       "      <td>Lehengas</td>\n",
       "      <td>620497</td>\n",
       "      <td>Market</td>\n",
       "      <td>Fish Cut Lehenga</td>\n",
       "      <td>NaN</td>\n",
       "      <td>NaN</td>\n",
       "      <td>1-Mar-19</td>\n",
       "      <td>...</td>\n",
       "      <td>NaN</td>\n",
       "      <td>NaN</td>\n",
       "      <td>NaN</td>\n",
       "      <td>NaN</td>\n",
       "      <td>NaN</td>\n",
       "      <td>1-Mar-19</td>\n",
       "      <td>minchi1162</td>\n",
       "      <td>NaN</td>\n",
       "      <td>NaN</td>\n",
       "      <td>NaN</td>\n",
       "    </tr>\n",
       "    <tr>\n",
       "      <th>3</th>\n",
       "      <td>Global site</td>\n",
       "      <td>KRSVFKU277</td>\n",
       "      <td>KR</td>\n",
       "      <td>Kurtis</td>\n",
       "      <td>348096</td>\n",
       "      <td>Market</td>\n",
       "      <td>Long Kurti</td>\n",
       "      <td>Embroidered |</td>\n",
       "      <td>NaN</td>\n",
       "      <td>1-Mar-19</td>\n",
       "      <td>...</td>\n",
       "      <td>LOS</td>\n",
       "      <td>NaN</td>\n",
       "      <td>S (Small)</td>\n",
       "      <td>24-Jan-15</td>\n",
       "      <td>24-Jun-19</td>\n",
       "      <td>24-Jan-15</td>\n",
       "      <td>Rukshana  Jalil</td>\n",
       "      <td>Ozone Park</td>\n",
       "      <td>New York</td>\n",
       "      <td>United States</td>\n",
       "    </tr>\n",
       "    <tr>\n",
       "      <th>4</th>\n",
       "      <td>Global site</td>\n",
       "      <td>KRSVFKU265</td>\n",
       "      <td>KR</td>\n",
       "      <td>Kurtis</td>\n",
       "      <td>348096</td>\n",
       "      <td>Market</td>\n",
       "      <td>Long Kurti</td>\n",
       "      <td>Embroidered |</td>\n",
       "      <td>NaN</td>\n",
       "      <td>1-Mar-19</td>\n",
       "      <td>...</td>\n",
       "      <td>LOS</td>\n",
       "      <td>NaN</td>\n",
       "      <td>S (Small)</td>\n",
       "      <td>24-Jan-15</td>\n",
       "      <td>24-Jun-19</td>\n",
       "      <td>24-Jan-15</td>\n",
       "      <td>Rukshana  Jalil</td>\n",
       "      <td>Ozone Park</td>\n",
       "      <td>New York</td>\n",
       "      <td>United States</td>\n",
       "    </tr>\n",
       "  </tbody>\n",
       "</table>\n",
       "<p>5 rows × 22 columns</p>\n",
       "</div>"
      ],
      "text/plain": [
       "        Domain          SKU  SKU's Unique Group ID  \\\n",
       "0  Global site  SLSSITAI1001                    SL   \n",
       "1  Global site     KDSLP8113                   KDG   \n",
       "2  Global site     GHSMV6512                    GH   \n",
       "3  Global site    KRSVFKU277                    KR   \n",
       "4  Global site    KRSVFKU265                    KR   \n",
       "\n",
       "  Sku's Unique group Id Definition  Customer ID brand Name              Type  \\\n",
       "0                    Salwar Kameez       582222     Market     Churidar Suit   \n",
       "1                            Girls       620497     Market   Girls Skirt Set   \n",
       "2                         Lehengas       620497     Market  Fish Cut Lehenga   \n",
       "3                           Kurtis       348096     Market        Long Kurti   \n",
       "4                           Kurtis       348096     Market        Long Kurti   \n",
       "\n",
       "                         Art style Product style Added to Cart Date  ...  \\\n",
       "0                   Embroidered |            NaN           1-Mar-19  ...   \n",
       "1  Beads | Embroidered | Stones |            NaN           1-Mar-19  ...   \n",
       "2                              NaN           NaN           1-Mar-19  ...   \n",
       "3                   Embroidered |            NaN           1-Mar-19  ...   \n",
       "4                   Embroidered |            NaN           1-Mar-19  ...   \n",
       "\n",
       "  RFM Value Body height Readymade /kids /Bust size  \\\n",
       "0       NaN         NaN                         34   \n",
       "1       NaN         NaN                8 TO 10 YRS   \n",
       "2       NaN         NaN                        NaN   \n",
       "3       LOS         NaN                  S (Small)   \n",
       "4       LOS         NaN                  S (Small)   \n",
       "\n",
       "   Customer Last Purchased Date Customer Last website Visited date  \\\n",
       "0                           NaN                                NaN   \n",
       "1                           NaN                                NaN   \n",
       "2                           NaN                                NaN   \n",
       "3                     24-Jan-15                          24-Jun-19   \n",
       "4                     24-Jan-15                          24-Jun-19   \n",
       "\n",
       "  Customer Registered Date    Customer Name        City     State  \\\n",
       "0                18-Jul-18           Jannat         NaN       NaN   \n",
       "1                 1-Mar-19       minchi1162         NaN       NaN   \n",
       "2                 1-Mar-19       minchi1162         NaN       NaN   \n",
       "3                24-Jan-15  Rukshana  Jalil  Ozone Park  New York   \n",
       "4                24-Jan-15  Rukshana  Jalil  Ozone Park  New York   \n",
       "\n",
       "         Country  \n",
       "0  United States  \n",
       "1            NaN  \n",
       "2            NaN  \n",
       "3  United States  \n",
       "4  United States  \n",
       "\n",
       "[5 rows x 22 columns]"
      ]
     },
     "execution_count": 8,
     "metadata": {},
     "output_type": "execute_result"
    }
   ],
   "source": [
    "data.head()"
   ]
  },
  {
   "cell_type": "code",
   "execution_count": 9,
   "id": "dd085448",
   "metadata": {},
   "outputs": [],
   "source": [
    "data.dropna(inplace=True)"
   ]
  },
  {
   "cell_type": "code",
   "execution_count": 10,
   "id": "a8773104",
   "metadata": {},
   "outputs": [],
   "source": [
    "data_num = data[[\"Customer ID\",\"Body height\"]]\n",
    "data_cat = data.drop([\"Customer ID\",\"Body height\"],axis=1)"
   ]
  },
  {
   "cell_type": "code",
   "execution_count": 11,
   "id": "0cc5b8c7",
   "metadata": {},
   "outputs": [],
   "source": [
    "# data_cat.fillna('',inplace=True)\n",
    "# median = data_num[\"Body height\"].median()\n",
    "# data_num[\"Body height\"].fillna(median,inplace=True)"
   ]
  },
  {
   "cell_type": "code",
   "execution_count": 12,
   "id": "20464751",
   "metadata": {},
   "outputs": [
    {
     "data": {
      "text/plain": [
       "Domain                                0\n",
       "SKU                                   0\n",
       "SKU's Unique Group ID                 0\n",
       "Sku's Unique group Id Definition      0\n",
       "brand Name                            0\n",
       "Type                                  0\n",
       "Art style                             0\n",
       "Product style                         0\n",
       "Added to Cart Date                    0\n",
       "Added to Cart Time                    0\n",
       "Purchased Date                        0\n",
       "RFM Value                             0\n",
       "Readymade /kids /Bust size            0\n",
       "Customer Last Purchased Date          0\n",
       "Customer Last website Visited date    0\n",
       "Customer Registered Date              0\n",
       "Customer Name                         0\n",
       "City                                  0\n",
       "State                                 0\n",
       "Country                               0\n",
       "dtype: int64"
      ]
     },
     "execution_count": 12,
     "metadata": {},
     "output_type": "execute_result"
    }
   ],
   "source": [
    "data_cat.isnull().sum()"
   ]
  },
  {
   "cell_type": "code",
   "execution_count": 13,
   "id": "61598f66",
   "metadata": {},
   "outputs": [
    {
     "data": {
      "text/plain": [
       "Customer ID    0\n",
       "Body height    0\n",
       "dtype: int64"
      ]
     },
     "execution_count": 13,
     "metadata": {},
     "output_type": "execute_result"
    }
   ],
   "source": [
    "data_num.isnull().sum()"
   ]
  },
  {
   "cell_type": "code",
   "execution_count": 14,
   "id": "43072686",
   "metadata": {},
   "outputs": [],
   "source": [
    "# StandardScaler method apply for the numerical values \n",
    "scaler = StandardScaler()\n",
    "scaler_data = scaler.fit_transform(data_num)"
   ]
  },
  {
   "cell_type": "code",
   "execution_count": 15,
   "id": "eea2ce41",
   "metadata": {},
   "outputs": [
    {
     "data": {
      "text/plain": [
       "array([[ 0.32360015,  0.09396167],\n",
       "       [ 0.64659435,  0.09396167],\n",
       "       [ 0.76398525,  0.2501462 ],\n",
       "       ...,\n",
       "       [ 0.95362228, -0.01016134],\n",
       "       [ 0.95362228, -4.69569709],\n",
       "       [ 0.95362228, -0.01016134]])"
      ]
     },
     "execution_count": 15,
     "metadata": {},
     "output_type": "execute_result"
    }
   ],
   "source": [
    "scaler_data"
   ]
  },
  {
   "cell_type": "markdown",
   "id": "3250c0a7",
   "metadata": {},
   "source": [
    "One-hot encoding is the process by which categorical data are converted into numerical data for use in machine learning.\n",
    "\n",
    "Categorical features are turned into binary features that are one-hot encoded, meaning that if a feature is represented by that column, it receives a 1. Otherwise, it receives a 0."
   ]
  },
  {
   "cell_type": "code",
   "execution_count": 16,
   "id": "f0578636",
   "metadata": {},
   "outputs": [],
   "source": [
    "from sklearn.preprocessing import OneHotEncoder\n",
    "\n",
    "cat_encoder = OneHotEncoder()\n",
    "data_cat_1hot = cat_encoder.fit_transform(data_cat)"
   ]
  },
  {
   "cell_type": "code",
   "execution_count": 17,
   "id": "7d549c4f",
   "metadata": {},
   "outputs": [
    {
     "data": {
      "text/plain": [
       "<2116x7336 sparse matrix of type '<class 'numpy.float64'>'\n",
       "\twith 42320 stored elements in Compressed Sparse Row format>"
      ]
     },
     "execution_count": 17,
     "metadata": {},
     "output_type": "execute_result"
    }
   ],
   "source": [
    "data_cat_1hot"
   ]
  },
  {
   "cell_type": "code",
   "execution_count": 18,
   "id": "78b04fa8",
   "metadata": {},
   "outputs": [],
   "source": [
    "from sklearn.pipeline import Pipeline\n",
    "\n",
    "num_pipeline = Pipeline([\n",
    "    ('std_scaler',StandardScaler()),\n",
    "])\n",
    "\n",
    "data_num_pipe = num_pipeline.fit_transform(data_num)"
   ]
  },
  {
   "cell_type": "code",
   "execution_count": 19,
   "id": "d3c8de35",
   "metadata": {},
   "outputs": [
    {
     "data": {
      "text/plain": [
       "['Domain',\n",
       " 'SKU ',\n",
       " \"SKU's Unique Group ID\",\n",
       " \"Sku's Unique group Id Definition\",\n",
       " 'brand Name',\n",
       " 'Type',\n",
       " 'Art style',\n",
       " 'Product style',\n",
       " 'Added to Cart Date',\n",
       " 'Added to Cart Time',\n",
       " 'Purchased Date',\n",
       " 'RFM Value',\n",
       " 'Readymade /kids /Bust size',\n",
       " 'Customer Last Purchased Date',\n",
       " 'Customer Last website Visited date',\n",
       " 'Customer Registered Date',\n",
       " 'Customer Name',\n",
       " 'City',\n",
       " 'State',\n",
       " 'Country']"
      ]
     },
     "execution_count": 19,
     "metadata": {},
     "output_type": "execute_result"
    }
   ],
   "source": [
    "from sklearn.compose import ColumnTransformer\n",
    "\n",
    "num_attribute = list(data_num)\n",
    "cat_attribute = list(data_cat)\n",
    "cat_attribute"
   ]
  },
  {
   "cell_type": "code",
   "execution_count": 20,
   "id": "b0fc43ba",
   "metadata": {},
   "outputs": [
    {
     "data": {
      "text/html": [
       "<style>#sk-container-id-1 {color: black;background-color: white;}#sk-container-id-1 pre{padding: 0;}#sk-container-id-1 div.sk-toggleable {background-color: white;}#sk-container-id-1 label.sk-toggleable__label {cursor: pointer;display: block;width: 100%;margin-bottom: 0;padding: 0.3em;box-sizing: border-box;text-align: center;}#sk-container-id-1 label.sk-toggleable__label-arrow:before {content: \"▸\";float: left;margin-right: 0.25em;color: #696969;}#sk-container-id-1 label.sk-toggleable__label-arrow:hover:before {color: black;}#sk-container-id-1 div.sk-estimator:hover label.sk-toggleable__label-arrow:before {color: black;}#sk-container-id-1 div.sk-toggleable__content {max-height: 0;max-width: 0;overflow: hidden;text-align: left;background-color: #f0f8ff;}#sk-container-id-1 div.sk-toggleable__content pre {margin: 0.2em;color: black;border-radius: 0.25em;background-color: #f0f8ff;}#sk-container-id-1 input.sk-toggleable__control:checked~div.sk-toggleable__content {max-height: 200px;max-width: 100%;overflow: auto;}#sk-container-id-1 input.sk-toggleable__control:checked~label.sk-toggleable__label-arrow:before {content: \"▾\";}#sk-container-id-1 div.sk-estimator input.sk-toggleable__control:checked~label.sk-toggleable__label {background-color: #d4ebff;}#sk-container-id-1 div.sk-label input.sk-toggleable__control:checked~label.sk-toggleable__label {background-color: #d4ebff;}#sk-container-id-1 input.sk-hidden--visually {border: 0;clip: rect(1px 1px 1px 1px);clip: rect(1px, 1px, 1px, 1px);height: 1px;margin: -1px;overflow: hidden;padding: 0;position: absolute;width: 1px;}#sk-container-id-1 div.sk-estimator {font-family: monospace;background-color: #f0f8ff;border: 1px dotted black;border-radius: 0.25em;box-sizing: border-box;margin-bottom: 0.5em;}#sk-container-id-1 div.sk-estimator:hover {background-color: #d4ebff;}#sk-container-id-1 div.sk-parallel-item::after {content: \"\";width: 100%;border-bottom: 1px solid gray;flex-grow: 1;}#sk-container-id-1 div.sk-label:hover label.sk-toggleable__label {background-color: #d4ebff;}#sk-container-id-1 div.sk-serial::before {content: \"\";position: absolute;border-left: 1px solid gray;box-sizing: border-box;top: 0;bottom: 0;left: 50%;z-index: 0;}#sk-container-id-1 div.sk-serial {display: flex;flex-direction: column;align-items: center;background-color: white;padding-right: 0.2em;padding-left: 0.2em;position: relative;}#sk-container-id-1 div.sk-item {position: relative;z-index: 1;}#sk-container-id-1 div.sk-parallel {display: flex;align-items: stretch;justify-content: center;background-color: white;position: relative;}#sk-container-id-1 div.sk-item::before, #sk-container-id-1 div.sk-parallel-item::before {content: \"\";position: absolute;border-left: 1px solid gray;box-sizing: border-box;top: 0;bottom: 0;left: 50%;z-index: -1;}#sk-container-id-1 div.sk-parallel-item {display: flex;flex-direction: column;z-index: 1;position: relative;background-color: white;}#sk-container-id-1 div.sk-parallel-item:first-child::after {align-self: flex-end;width: 50%;}#sk-container-id-1 div.sk-parallel-item:last-child::after {align-self: flex-start;width: 50%;}#sk-container-id-1 div.sk-parallel-item:only-child::after {width: 0;}#sk-container-id-1 div.sk-dashed-wrapped {border: 1px dashed gray;margin: 0 0.4em 0.5em 0.4em;box-sizing: border-box;padding-bottom: 0.4em;background-color: white;}#sk-container-id-1 div.sk-label label {font-family: monospace;font-weight: bold;display: inline-block;line-height: 1.2em;}#sk-container-id-1 div.sk-label-container {text-align: center;}#sk-container-id-1 div.sk-container {/* jupyter's `normalize.less` sets `[hidden] { display: none; }` but bootstrap.min.css set `[hidden] { display: none !important; }` so we also need the `!important` here to be able to override the default hidden behavior on the sphinx rendered scikit-learn.org. See: https://github.com/scikit-learn/scikit-learn/issues/21755 */display: inline-block !important;position: relative;}#sk-container-id-1 div.sk-text-repr-fallback {display: none;}</style><div id=\"sk-container-id-1\" class=\"sk-top-container\"><div class=\"sk-text-repr-fallback\"><pre>ColumnTransformer(transformers=[(&#x27;numerical&#x27;,\n",
       "                                 Pipeline(steps=[(&#x27;std_scaler&#x27;,\n",
       "                                                  StandardScaler())]),\n",
       "                                 [&#x27;Customer ID&#x27;, &#x27;Body height&#x27;]),\n",
       "                                (&#x27;categorical&#x27;, OneHotEncoder(),\n",
       "                                 [&#x27;Domain&#x27;, &#x27;SKU &#x27;, &quot;SKU&#x27;s Unique Group ID&quot;,\n",
       "                                  &quot;Sku&#x27;s Unique group Id Definition&quot;,\n",
       "                                  &#x27;brand Name&#x27;, &#x27;Type&#x27;, &#x27;Art style&#x27;,\n",
       "                                  &#x27;Product style&#x27;, &#x27;Added to Cart Date&#x27;,\n",
       "                                  &#x27;Added to Cart Time&#x27;, &#x27;Purchased Date&#x27;,\n",
       "                                  &#x27;RFM Value&#x27;, &#x27;Readymade /kids /Bust size&#x27;,\n",
       "                                  &#x27;Customer Last Purchased Date&#x27;,\n",
       "                                  &#x27;Customer Last website Visited date&#x27;,\n",
       "                                  &#x27;Customer Registered Date&#x27;, &#x27;Customer Name&#x27;,\n",
       "                                  &#x27;City&#x27;, &#x27;State&#x27;, &#x27;Country&#x27;])])</pre><b>In a Jupyter environment, please rerun this cell to show the HTML representation or trust the notebook. <br />On GitHub, the HTML representation is unable to render, please try loading this page with nbviewer.org.</b></div><div class=\"sk-container\" hidden><div class=\"sk-item sk-dashed-wrapped\"><div class=\"sk-label-container\"><div class=\"sk-label sk-toggleable\"><input class=\"sk-toggleable__control sk-hidden--visually\" id=\"sk-estimator-id-1\" type=\"checkbox\" ><label for=\"sk-estimator-id-1\" class=\"sk-toggleable__label sk-toggleable__label-arrow\">ColumnTransformer</label><div class=\"sk-toggleable__content\"><pre>ColumnTransformer(transformers=[(&#x27;numerical&#x27;,\n",
       "                                 Pipeline(steps=[(&#x27;std_scaler&#x27;,\n",
       "                                                  StandardScaler())]),\n",
       "                                 [&#x27;Customer ID&#x27;, &#x27;Body height&#x27;]),\n",
       "                                (&#x27;categorical&#x27;, OneHotEncoder(),\n",
       "                                 [&#x27;Domain&#x27;, &#x27;SKU &#x27;, &quot;SKU&#x27;s Unique Group ID&quot;,\n",
       "                                  &quot;Sku&#x27;s Unique group Id Definition&quot;,\n",
       "                                  &#x27;brand Name&#x27;, &#x27;Type&#x27;, &#x27;Art style&#x27;,\n",
       "                                  &#x27;Product style&#x27;, &#x27;Added to Cart Date&#x27;,\n",
       "                                  &#x27;Added to Cart Time&#x27;, &#x27;Purchased Date&#x27;,\n",
       "                                  &#x27;RFM Value&#x27;, &#x27;Readymade /kids /Bust size&#x27;,\n",
       "                                  &#x27;Customer Last Purchased Date&#x27;,\n",
       "                                  &#x27;Customer Last website Visited date&#x27;,\n",
       "                                  &#x27;Customer Registered Date&#x27;, &#x27;Customer Name&#x27;,\n",
       "                                  &#x27;City&#x27;, &#x27;State&#x27;, &#x27;Country&#x27;])])</pre></div></div></div><div class=\"sk-parallel\"><div class=\"sk-parallel-item\"><div class=\"sk-item\"><div class=\"sk-label-container\"><div class=\"sk-label sk-toggleable\"><input class=\"sk-toggleable__control sk-hidden--visually\" id=\"sk-estimator-id-2\" type=\"checkbox\" ><label for=\"sk-estimator-id-2\" class=\"sk-toggleable__label sk-toggleable__label-arrow\">numerical</label><div class=\"sk-toggleable__content\"><pre>[&#x27;Customer ID&#x27;, &#x27;Body height&#x27;]</pre></div></div></div><div class=\"sk-serial\"><div class=\"sk-item\"><div class=\"sk-serial\"><div class=\"sk-item\"><div class=\"sk-estimator sk-toggleable\"><input class=\"sk-toggleable__control sk-hidden--visually\" id=\"sk-estimator-id-3\" type=\"checkbox\" ><label for=\"sk-estimator-id-3\" class=\"sk-toggleable__label sk-toggleable__label-arrow\">StandardScaler</label><div class=\"sk-toggleable__content\"><pre>StandardScaler()</pre></div></div></div></div></div></div></div></div><div class=\"sk-parallel-item\"><div class=\"sk-item\"><div class=\"sk-label-container\"><div class=\"sk-label sk-toggleable\"><input class=\"sk-toggleable__control sk-hidden--visually\" id=\"sk-estimator-id-4\" type=\"checkbox\" ><label for=\"sk-estimator-id-4\" class=\"sk-toggleable__label sk-toggleable__label-arrow\">categorical</label><div class=\"sk-toggleable__content\"><pre>[&#x27;Domain&#x27;, &#x27;SKU &#x27;, &quot;SKU&#x27;s Unique Group ID&quot;, &quot;Sku&#x27;s Unique group Id Definition&quot;, &#x27;brand Name&#x27;, &#x27;Type&#x27;, &#x27;Art style&#x27;, &#x27;Product style&#x27;, &#x27;Added to Cart Date&#x27;, &#x27;Added to Cart Time&#x27;, &#x27;Purchased Date&#x27;, &#x27;RFM Value&#x27;, &#x27;Readymade /kids /Bust size&#x27;, &#x27;Customer Last Purchased Date&#x27;, &#x27;Customer Last website Visited date&#x27;, &#x27;Customer Registered Date&#x27;, &#x27;Customer Name&#x27;, &#x27;City&#x27;, &#x27;State&#x27;, &#x27;Country&#x27;]</pre></div></div></div><div class=\"sk-serial\"><div class=\"sk-item\"><div class=\"sk-estimator sk-toggleable\"><input class=\"sk-toggleable__control sk-hidden--visually\" id=\"sk-estimator-id-5\" type=\"checkbox\" ><label for=\"sk-estimator-id-5\" class=\"sk-toggleable__label sk-toggleable__label-arrow\">OneHotEncoder</label><div class=\"sk-toggleable__content\"><pre>OneHotEncoder()</pre></div></div></div></div></div></div></div></div></div></div>"
      ],
      "text/plain": [
       "ColumnTransformer(transformers=[('numerical',\n",
       "                                 Pipeline(steps=[('std_scaler',\n",
       "                                                  StandardScaler())]),\n",
       "                                 ['Customer ID', 'Body height']),\n",
       "                                ('categorical', OneHotEncoder(),\n",
       "                                 ['Domain', 'SKU ', \"SKU's Unique Group ID\",\n",
       "                                  \"Sku's Unique group Id Definition\",\n",
       "                                  'brand Name', 'Type', 'Art style',\n",
       "                                  'Product style', 'Added to Cart Date',\n",
       "                                  'Added to Cart Time', 'Purchased Date',\n",
       "                                  'RFM Value', 'Readymade /kids /Bust size',\n",
       "                                  'Customer Last Purchased Date',\n",
       "                                  'Customer Last website Visited date',\n",
       "                                  'Customer Registered Date', 'Customer Name',\n",
       "                                  'City', 'State', 'Country'])])"
      ]
     },
     "execution_count": 20,
     "metadata": {},
     "output_type": "execute_result"
    }
   ],
   "source": [
    "full_pipeline = ColumnTransformer([\n",
    "    (\"numerical\",num_pipeline,num_attribute),\n",
    "    (\"categorical\",OneHotEncoder(),cat_attribute)\n",
    "])\n",
    "full_pipeline"
   ]
  },
  {
   "cell_type": "markdown",
   "id": "d3eee2ac",
   "metadata": {},
   "source": [
    "Now we can prepare the data using full pipeline method.The Dataset have a both categorical and numerical values,the pipeline method convered data into sparse matrix\n",
    "\n",
    "**Sparse matrix similar to the normal matrix but it have contains more number of zeros**"
   ]
  },
  {
   "cell_type": "code",
   "execution_count": 21,
   "id": "61c40b86",
   "metadata": {},
   "outputs": [],
   "source": [
    "data_prepared = full_pipeline.fit_transform(data)"
   ]
  },
  {
   "cell_type": "code",
   "execution_count": 22,
   "id": "1dbcacca",
   "metadata": {},
   "outputs": [
    {
     "data": {
      "text/plain": [
       "<2116x7338 sparse matrix of type '<class 'numpy.float64'>'\n",
       "\twith 46552 stored elements in Compressed Sparse Row format>"
      ]
     },
     "execution_count": 22,
     "metadata": {},
     "output_type": "execute_result"
    }
   ],
   "source": [
    "data_prepared"
   ]
  },
  {
   "cell_type": "code",
   "execution_count": 23,
   "id": "28f4293e",
   "metadata": {},
   "outputs": [],
   "source": [
    "kmeans = KMeans(n_clusters=3)\n",
    "k=kmeans.fit(data_prepared)"
   ]
  },
  {
   "cell_type": "code",
   "execution_count": 24,
   "id": "f9e66d8d",
   "metadata": {},
   "outputs": [
    {
     "data": {
      "text/plain": [
       "array([2, 2, 2, ..., 2, 1, 2])"
      ]
     },
     "execution_count": 24,
     "metadata": {},
     "output_type": "execute_result"
    }
   ],
   "source": [
    "k.labels_"
   ]
  },
  {
   "cell_type": "code",
   "execution_count": 25,
   "id": "e1948992",
   "metadata": {},
   "outputs": [
    {
     "data": {
      "text/plain": [
       "2116"
      ]
     },
     "execution_count": 25,
     "metadata": {},
     "output_type": "execute_result"
    }
   ],
   "source": [
    "len(k.labels_)"
   ]
  },
  {
   "cell_type": "code",
   "execution_count": 26,
   "id": "2e042d3e",
   "metadata": {},
   "outputs": [
    {
     "data": {
      "text/plain": [
       "array([[-1.19433463e+00,  1.84065420e-01,  2.30040595e-02, ...,\n",
       "         0.00000000e+00,  9.60757781e-02,  7.55074425e-01],\n",
       "       [ 3.38620866e-02, -4.71898776e+00,  0.00000000e+00, ...,\n",
       "         0.00000000e+00,  1.18421053e-01,  7.23684211e-01],\n",
       "       [ 6.76433340e-01,  1.71113547e-01,  1.61414297e-02, ...,\n",
       "         3.07455803e-03,  1.21445042e-01,  6.81014604e-01]])"
      ]
     },
     "execution_count": 26,
     "metadata": {},
     "output_type": "execute_result"
    }
   ],
   "source": [
    "k.cluster_centers_"
   ]
  },
  {
   "cell_type": "code",
   "execution_count": 27,
   "id": "e3a5b321",
   "metadata": {},
   "outputs": [
    {
     "data": {
      "text/plain": [
       "3"
      ]
     },
     "execution_count": 27,
     "metadata": {},
     "output_type": "execute_result"
    }
   ],
   "source": [
    "len(k.cluster_centers_)"
   ]
  },
  {
   "cell_type": "code",
   "execution_count": 28,
   "id": "4125c1ec",
   "metadata": {},
   "outputs": [
    {
     "data": {
      "image/png": "[encoded data removed]",
      "text/plain": [
       "<Figure size 432x288 with 1 Axes>"
      ]
     },
     "metadata": {
      "needs_background": "light"
     },
     "output_type": "display_data"
    }
   ],
   "source": [
    "for i in range(len(k.cluster_centers_)):\n",
    "    plt.scatter(k.cluster_centers_[:,i],k.cluster_centers_[:,i+1])"
   ]
  },
  {
   "cell_type": "code",
   "execution_count": 29,
   "id": "68a406a2",
   "metadata": {},
   "outputs": [],
   "source": [
    "label = k.labels_"
   ]
  },
  {
   "cell_type": "code",
   "execution_count": 30,
   "id": "f77f9676",
   "metadata": {},
   "outputs": [
    {
     "data": {
      "image/png": "[encoded data removed]",
      "text/plain": [
       "<Figure size 360x360 with 1 Axes>"
      ]
     },
     "metadata": {},
     "output_type": "display_data"
    }
   ],
   "source": [
    "import seaborn as sns\n",
    "\n",
    "sns.set_theme()\n",
    "\n",
    "sns.relplot(data=label)\n",
    "plt.show()"
   ]
  },
  {
   "cell_type": "code",
   "execution_count": 31,
   "id": "329144bf",
   "metadata": {},
   "outputs": [
    {
     "data": {
      "text/plain": [
       "<seaborn.axisgrid.FacetGrid at 0x1b5a85234c0>"
      ]
     },
     "execution_count": 31,
     "metadata": {},
     "output_type": "execute_result"
    },
    {
     "data": {
      "image/png": "[encoded data removed]",
      "text/plain": [
       "<Figure size 360x360 with 1 Axes>"
      ]
     },
     "metadata": {},
     "output_type": "display_data"
    }
   ],
   "source": [
    "sns.displot(label)"
   ]
  },
  {
   "cell_type": "code",
   "execution_count": 32,
   "id": "310a2b58",
   "metadata": {},
   "outputs": [],
   "source": [
    "#Simple method to convert the Array into Dataframe\n",
    "lable_data= pd.DataFrame(label) "
   ]
  },
  {
   "cell_type": "code",
   "execution_count": 33,
   "id": "ae59a658",
   "metadata": {},
   "outputs": [
    {
     "data": {
      "text/plain": [
       "2    1301\n",
       "0     739\n",
       "1      76\n",
       "dtype: int64"
      ]
     },
     "execution_count": 33,
     "metadata": {},
     "output_type": "execute_result"
    }
   ],
   "source": [
    "lable_data.value_counts()"
   ]
  },
  {
   "cell_type": "code",
   "execution_count": 34,
   "id": "5d16d935",
   "metadata": {},
   "outputs": [
    {
     "data": {
      "image/png": "[encoded data removed]",
      "text/plain": [
       "<Figure size 432x288 with 1 Axes>"
      ]
     },
     "metadata": {},
     "output_type": "display_data"
    }
   ],
   "source": [
    "plt.pie(lable_data.value_counts(),labels=(1,0,2), autopct='%1.1f%%')\n",
    "plt.show()"
   ]
  },
  {
   "cell_type": "markdown",
   "id": "6a865129",
   "metadata": {},
   "source": [
    "The K means cluster algorithm was separeated/clustered the given data into 3 type of group (0,1,2).\n"
   ]
  },
  {
   "cell_type": "code",
   "execution_count": null,
   "id": "a3af8616",
   "metadata": {},
   "outputs": [],
   "source": []
  }
 ],
 "metadata": {
  "kernelspec": {
   "display_name": "Python 3 (ipykernel)",
   "language": "python",
   "name": "python3"
  },
  "language_info": {
   "codemirror_mode": {
    "name": "ipython",
    "version": 3
   },
   "file_extension": ".py",
   "mimetype": "text/x-python",
   "name": "python",
   "nbconvert_exporter": "python",
   "pygments_lexer": "ipython3",
   "version": "3.10.5"
  }
 },
 "nbformat": 4,
 "nbformat_minor": 5
}
